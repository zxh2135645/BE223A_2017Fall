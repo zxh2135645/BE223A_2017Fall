{
 "cells": [
  {
   "cell_type": "code",
   "execution_count": 9,
   "metadata": {
    "collapsed": false
   },
   "outputs": [],
   "source": [
    "def preproc(imgPath):\n",
    "    \"\"\"\n",
    "    The function pre-process the image with the following pipeline:\n",
    "    Read Image -> Histogram equalize -> Gaussian Blurring -> Otsu thresholding -> Morphology opening ->\n",
    "    Labeling and Clustering -> Remove small clusters -> Morphology closing -> Save image\n",
    "    \n",
    "    Input\n",
    "    imgPath: String for that path of image\n",
    "    \n",
    "    Output\n",
    "    None\n",
    "    \n",
    "    \"\"\"\n",
    "    from scipy import misc\n",
    "    from skimage import exposure, io, img_as_ubyte\n",
    "    import matplotlib.pyplot as plt\n",
    "    import numpy as np\n",
    "    import cv2\n",
    "    from skimage.morphology import binary_opening, closing, square\n",
    "    from scipy.ndimage import label\n",
    "    import os\n",
    "    %matplotlib inline\n",
    "    \n",
    "    # Read image\n",
    "    img = misc.imread(imgPath)\n",
    "    filename = os.path.basename(imgPath)\n",
    "    dirname = os.path.dirname(imgPath)\n",
    "    \n",
    "    # Histogram equalize\n",
    "    img_eq = img_as_ubyte(exposure.equalize_hist(img)) \n",
    "    \n",
    "    # Gaussian Blurring with 5x5 kernel\n",
    "    blur = cv2.GaussianBlur(img_eq,(5,5),0) \n",
    "    \n",
    "    # Otsu thresholding\n",
    "    ret,thresh = cv2.threshold(blur, 0, 1, cv2.THRESH_BINARY+cv2.THRESH_OTSU)\n",
    "    \n",
    "    # Using threshold 20 greater than the calculated otsu threshold, being more liberal in thresholding\n",
    "    img_eq[img_eq <= ret + 20] = 0 \n",
    "    \n",
    "    # Morphology opening with 5x5 kernel\n",
    "    img_opening = binary_opening(img_eq, square(5))\n",
    "    \n",
    "    # Labeling mask and then only keeping the first two biggest clusters\n",
    "    labeled_img, nlabels = label(img_opening)\n",
    "    cluster_size = np.bincount(labeled_img.ravel())\n",
    "    third_large = sorted(cluster_size)[-3]\n",
    "    for i in range(1, nlabels):\n",
    "        coord = np.where(labeled_img == i)\n",
    "        if cluster_size[i] <= third_large:\n",
    "            labeled_img[coord] = 0\n",
    "            \n",
    "    # Make all the labels to 1    \n",
    "    labeled_img[labeled_img >= 1] = 1\n",
    "    img_after_label = img_eq * labeled_img\n",
    "\n",
    "    # Morphology closing with 5x5 kernel\n",
    "    img_closing = closing(img_after_label, square(5))\n",
    "\n",
    "    # Save image\n",
    "    from PIL import Image\n",
    "    im = Image.fromarray(img_closing)\n",
    "    if im.mode != 'RGB':\n",
    "        im = im.convert('RGB')\n",
    "    if not os.path.exists(os.path.join(dirname, '..', 'processed_data')):\n",
    "        os.mkdir(os.path.join(dirname, '..', 'processed_data'))\n",
    "        print(\"A new folder is created \", os.path.join(dirname, 'processed_data'))\n",
    "    im.save(os.path.join(dirname, '..', 'processed_data', 'proc_' + filename))\n",
    "\n"
   ]
  },
  {
   "cell_type": "code",
   "execution_count": 12,
   "metadata": {
    "collapsed": false
   },
   "outputs": [
    {
     "name": "stderr",
     "output_type": "stream",
     "text": [
      "/Users/jameszhang/anaconda2/envs/py_35/lib/python3.5/site-packages/skimage/util/dtype.py:110: UserWarning: Possible precision loss when converting from float64 to uint8\n",
      "  \"%s to %s\" % (dtypeobj_in, dtypeobj))\n"
     ]
    }
   ],
   "source": [
    "from glob import glob\n",
    "import os\n",
    "\n",
    "paths = glob('./boneage-training-dataset/*.png')\n",
    "total_set = len(paths)\n",
    "num_testing_set = int(total_set/5)\n",
    "num_training_set = total_set - num_testing_set\n",
    "\n",
    "\n",
    "for path in paths:\n",
    "    preproc(path)"
   ]
  },
  {
   "cell_type": "code",
   "execution_count": null,
   "metadata": {
    "collapsed": true
   },
   "outputs": [],
   "source": []
  }
 ],
 "metadata": {
  "kernelspec": {
   "display_name": "Python [conda env:py_35]",
   "language": "python",
   "name": "conda-env-py_35-py"
  },
  "language_info": {
   "codemirror_mode": {
    "name": "ipython",
    "version": 3
   },
   "file_extension": ".py",
   "mimetype": "text/x-python",
   "name": "python",
   "nbconvert_exporter": "python",
   "pygments_lexer": "ipython3",
   "version": "3.5.2"
  }
 },
 "nbformat": 4,
 "nbformat_minor": 1
}
