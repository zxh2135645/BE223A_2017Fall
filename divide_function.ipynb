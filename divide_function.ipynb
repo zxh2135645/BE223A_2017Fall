{
 "cells": [
  {
   "cell_type": "markdown",
   "metadata": {},
   "source": [
    "## Function for dividing training set"
   ]
  },
  {
   "cell_type": "code",
   "execution_count": 7,
   "metadata": {
    "collapsed": true
   },
   "outputs": [],
   "source": [
    "def divide_training_set(dataset):\n",
    "    '''\n",
    "    This function divides training set into 5 folds and returns 4 folds as training set and 1 fold as evaluation set.\n",
    "    \n",
    "    Input\n",
    "          dataset: A list of the path of the dataset\n",
    "          \n",
    "    Output\n",
    "          training_set: A list of path of training set\n",
    "          eval_set: A list of path of evaluation set\n",
    "    '''\n",
    "    import random\n",
    "    len_list = len(dataset)\n",
    "    eval_num = int(len_list/5)\n",
    "    train_num = len_list - eval_num\n",
    "    eval_set = random.sample(dataset, eval_num) \n",
    "    training_set = sorted(list(set(dataset) - set(eval_set)))\n",
    "    \n",
    "    return training_set, eval_set\n",
    "    "
   ]
  }
 ],
 "metadata": {
  "anaconda-cloud": {},
  "kernelspec": {
   "display_name": "Python [conda env:py_35]",
   "language": "python",
   "name": "conda-env-py_35-py"
  },
  "language_info": {
   "codemirror_mode": {
    "name": "ipython",
    "version": 3
   },
   "file_extension": ".py",
   "mimetype": "text/x-python",
   "name": "python",
   "nbconvert_exporter": "python",
   "pygments_lexer": "ipython3",
   "version": "3.5.2"
  }
 },
 "nbformat": 4,
 "nbformat_minor": 1
}
